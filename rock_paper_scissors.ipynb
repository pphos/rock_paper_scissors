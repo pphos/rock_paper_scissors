{
  "nbformat": 4,
  "nbformat_minor": 0,
  "metadata": {
    "colab": {
      "name": "rock_paper_scissors.ipynb",
      "version": "0.3.2",
      "provenance": [],
      "collapsed_sections": []
    },
    "kernelspec": {
      "name": "python3",
      "display_name": "Python 3"
    },
    "accelerator": "GPU"
  },
  "cells": [
    {
      "metadata": {
        "id": "TeKvjdbJZMxP",
        "colab_type": "code",
        "colab": {}
      },
      "cell_type": "code",
      "source": [
        "# https://pypi.python.org/pypi/pydot\n",
        "!apt-get -qq install -y graphviz && pip install -q pydot"
      ],
      "execution_count": 0,
      "outputs": []
    },
    {
      "metadata": {
        "id": "vpMvc_hVE89y",
        "colab_type": "code",
        "outputId": "4853fe15-f273-4a27-8002-95947277ed15",
        "colab": {
          "base_uri": "https://localhost:8080/",
          "height": 156
        }
      },
      "cell_type": "code",
      "source": [
        "# データセット及びモジュールの取得\n",
        "!git clone https://github.com/pphos/rock_paper_scissors.git"
      ],
      "execution_count": 0,
      "outputs": [
        {
          "output_type": "stream",
          "text": [
            "Cloning into 'rock_paper_scissors'...\n",
            "remote: Enumerating objects: 298, done.\u001b[K\n",
            "remote: Counting objects: 100% (298/298), done.\u001b[K\n",
            "remote: Compressing objects: 100% (153/153), done.\u001b[K\n",
            "remote: Total 298 (delta 168), reused 269 (delta 142), pack-reused 0\u001b[K\n",
            "Receiving objects: 100% (298/298), 593.29 MiB | 31.71 MiB/s, done.\n",
            "Resolving deltas: 100% (168/168), done.\n",
            "Checking out files: 100% (31/31), done.\n"
          ],
          "name": "stdout"
        }
      ]
    },
    {
      "metadata": {
        "id": "sgpHJHCiWPRW",
        "colab_type": "code",
        "colab": {}
      },
      "cell_type": "code",
      "source": [
        "# モジュールの移動\n",
        "!mv './rock_paper_scissors/src/modules' ./"
      ],
      "execution_count": 0,
      "outputs": []
    },
    {
      "metadata": {
        "colab_type": "code",
        "id": "5HhFSTTSGCbI",
        "colab": {}
      },
      "cell_type": "code",
      "source": [
        "# データセット結合\n",
        "!cat ./rock_paper_scissors/datasets/rock_paper_scissors.tar.gz.* > datasets.tar.gz"
      ],
      "execution_count": 0,
      "outputs": []
    },
    {
      "metadata": {
        "id": "Nld5sUs6Nf0h",
        "colab_type": "code",
        "outputId": "fbeb95dc-079e-43e7-8e49-8b1409e525fa",
        "colab": {
          "base_uri": "https://localhost:8080/",
          "height": 173
        }
      },
      "cell_type": "code",
      "source": [
        "# データセットの解凍\n",
        "!tar -zxvf datasets.tar.gz\n",
        "!rm datasets.tar.gz"
      ],
      "execution_count": 0,
      "outputs": [
        {
          "output_type": "stream",
          "text": [
            "splited_dataset/\n",
            "splited_dataset/eval_features/\n",
            "splited_dataset/eval_features/data.npy\n",
            "splited_dataset/eval_features/target_label.pkl\n",
            "splited_dataset/eval_features/target.npy\n",
            "splited_dataset/training_features/\n",
            "splited_dataset/training_features/data.npy\n",
            "splited_dataset/training_features/target_label.pkl\n",
            "splited_dataset/training_features/target.npy\n"
          ],
          "name": "stdout"
        }
      ]
    },
    {
      "metadata": {
        "id": "CtFzdUfsGDiv",
        "colab_type": "code",
        "outputId": "7a9ce96e-3c6d-4414-f02a-1687d21d8901",
        "colab": {
          "base_uri": "https://localhost:8080/",
          "height": 35
        }
      },
      "cell_type": "code",
      "source": [
        "import os\n",
        "from modules.utils.preprocess import load_and_preprocess_dataset\n",
        "from modules.models.model_selection import select_model\n",
        "from modules.utils.io import init_result_save_dir"
      ],
      "execution_count": 0,
      "outputs": [
        {
          "output_type": "stream",
          "text": [
            "Using TensorFlow backend.\n"
          ],
          "name": "stderr"
        }
      ]
    },
    {
      "metadata": {
        "id": "g5H6KMkIxeAD",
        "colab_type": "code",
        "colab": {}
      },
      "cell_type": "code",
      "source": [
        "def init_each_config(target_label, save_root, unique=False):\n",
        "  \"\"\"\n",
        "  各種コンフィグの初期化\n",
        "  # Arguments\n",
        "    target_label : 正解ラベル (pickle形式)\n",
        "    save_root    : 結果を保存するディレクトリのパス\n",
        "    unique       : 保存ディレクトリに一意の名前をつけるかのフラグ\n",
        "  # Returns\n",
        "    model_conf   : モデル情報を格納した辞書\n",
        "     Attribute)\n",
        "      name                  : モデル名\n",
        "      save_dir              : モデルの保存ディレクトリパス\n",
        "      epochs                : モデルを訓練するエポック数 (int)\n",
        "      batch_size            : 勾配の更新を行うバッチサイズ (int)\n",
        "      validation_split      : 訓練データの中で検証データとして使う割合 (float)\n",
        "      loss                  : 損失関数\n",
        "      optimizer             : 最適化関数\n",
        "      metrics               : 評価やテストの際にモデルを評価するための評価関数のリスト\n",
        "      set_class_weight      : クラスごとに異なる重みづけを行うかのフラグ (bool) \n",
        "                             (各カテゴリの不均衡の解消用)\n",
        "      enable_early_stopping : 学習の早期終了を行うかのフラグ (bool)\n",
        "      \n",
        "    save_conf    : 結果の保存に関する情報を格納した辞書\n",
        "     Attribute)\n",
        "      digits                : 出力結果の有効数字の桁数 (int)\n",
        "      cnf_matrix_title      : Confusion Matrixの図につけるタイトル\n",
        "      cnf_matrix_fname      : Confusion Matrixの保存名 (画像ファイル)\n",
        "      text_fname            : classification_reportの保存名 (テキストファイル)\n",
        "      save_prefix           : 結果ファイルに付与するプレフィックス\n",
        "  \"\"\"\n",
        "  # 保存対象ディレクトリの初期化\n",
        "  model_name = 'MnistCNN'\n",
        "  save_dirs = init_result_save_dir(name=model_name,\n",
        "                                   save_root=save_root,\n",
        "                                   unique=unique)\n",
        "  \n",
        "  # model_conf の初期化\n",
        "  model_conf = {\n",
        "      'name': model_name,\n",
        "      'save_dir': save_dirs['model'],\n",
        "      'epochs': 1,\n",
        "      'batch_size': 32,\n",
        "      'validation_split': 0.1,\n",
        "      'loss': 'categorical_crossentropy',\n",
        "      'optimizer': 'Adam',\n",
        "      'metrics': ['accuracy'],\n",
        "      'set_class_weight': False,\n",
        "      'enable_early_stopping': False\n",
        "  }\n",
        "  \n",
        "  # save_conf の初期化\n",
        "  save_conf = {\n",
        "      'save_dir': save_dirs['figure'],\n",
        "      'digits': 4,\n",
        "      'target_names': target_label,\n",
        "      'cnf_matrix_title': None,\n",
        "      'cnf_matrix_fname': 'confusion_matrix.png',\n",
        "      'text_fname': 'classification_report.txt',\n",
        "      'save_prefix': None\n",
        "  }\n",
        "  \n",
        "  return model_conf, save_conf"
      ],
      "execution_count": 0,
      "outputs": []
    },
    {
      "metadata": {
        "id": "y95QQ5jYRDD4",
        "colab_type": "code",
        "colab": {}
      },
      "cell_type": "code",
      "source": [
        "# データセットのパスの設定\n",
        "train_root = './splited_dataset/training_features'\n",
        "test_root = './splited_dataset/eval_features'\n",
        "\n",
        "base_file_names = ['data.npy', 'target.npy', 'target_label.pkl']\n",
        "train_paths, test_paths = {}, {}\n",
        "for value in base_file_names:\n",
        "  key = os.path.splitext(value)[0]\n",
        "  train_paths[key] = os.path.join(train_root, value)\n",
        "  test_paths[key] = os.path.join(test_root, value)\n",
        "  "
      ],
      "execution_count": 0,
      "outputs": []
    },
    {
      "metadata": {
        "id": "8JNgIhu4RA2g",
        "colab_type": "code",
        "colab": {}
      },
      "cell_type": "code",
      "source": [
        "# データセットの読み込み兼前処理\n",
        "train_dataset = load_and_preprocess_dataset(train_paths['data'],\n",
        "                                            train_paths['target'],\n",
        "                                            train_paths['target_label'])\n",
        "test_dataset = load_and_preprocess_dataset(test_paths['data'],\n",
        "                                           test_paths['target'],\n",
        "                                           test_paths['target_label'])"
      ],
      "execution_count": 0,
      "outputs": []
    },
    {
      "metadata": {
        "id": "QxiJpj3EXZBT",
        "colab_type": "code",
        "colab": {}
      },
      "cell_type": "code",
      "source": [
        "# 各種コンフィグの初期化\n",
        "save_root = './results'\n",
        "model_conf, save_conf = init_each_config(train_dataset.target_label, save_root, unique=False)"
      ],
      "execution_count": 0,
      "outputs": []
    },
    {
      "metadata": {
        "id": "_HZXIXYzYt9R",
        "colab_type": "code",
        "colab": {}
      },
      "cell_type": "code",
      "source": [
        "# 訓練モデルの選択\n",
        "model = select_model(model_conf['name'])\n",
        "model = model(name=model_conf['name'],\n",
        "              input_shape=train_dataset.X.shape[1:],\n",
        "              nb_classes=len(train_dataset.target_label),\n",
        "              save_dir=model_conf['save_dir'])"
      ],
      "execution_count": 0,
      "outputs": []
    },
    {
      "metadata": {
        "id": "boAfJjNv7S5g",
        "colab_type": "code",
        "outputId": "beaccdcd-24ad-4d8d-cb27-0d1b744815e5",
        "colab": {
          "base_uri": "https://localhost:8080/",
          "height": 416
        }
      },
      "cell_type": "code",
      "source": [
        "# 訓練モデルのサマリーの表示\n",
        "model.model.summary()"
      ],
      "execution_count": 0,
      "outputs": [
        {
          "output_type": "stream",
          "text": [
            "_________________________________________________________________\n",
            "Layer (type)                 Output Shape              Param #   \n",
            "=================================================================\n",
            "conv2d_1 (Conv2D)            (None, 254, 254, 8)       224       \n",
            "_________________________________________________________________\n",
            "conv2d_2 (Conv2D)            (None, 252, 252, 16)      1168      \n",
            "_________________________________________________________________\n",
            "max_pooling2d_1 (MaxPooling2 (None, 126, 126, 16)      0         \n",
            "_________________________________________________________________\n",
            "dropout_1 (Dropout)          (None, 126, 126, 16)      0         \n",
            "_________________________________________________________________\n",
            "flatten_1 (Flatten)          (None, 254016)            0         \n",
            "_________________________________________________________________\n",
            "dense_1 (Dense)              (None, 32)                8128544   \n",
            "_________________________________________________________________\n",
            "dropout_2 (Dropout)          (None, 32)                0         \n",
            "_________________________________________________________________\n",
            "dense_2 (Dense)              (None, 3)                 99        \n",
            "=================================================================\n",
            "Total params: 8,130,035\n",
            "Trainable params: 8,130,035\n",
            "Non-trainable params: 0\n",
            "_________________________________________________________________\n"
          ],
          "name": "stdout"
        }
      ]
    },
    {
      "metadata": {
        "id": "Ba0DQ7_2aapd",
        "colab_type": "code",
        "outputId": "ceade5fb-e187-4af0-8e85-debd68a98392",
        "colab": {
          "base_uri": "https://localhost:8080/",
          "height": 104
        }
      },
      "cell_type": "code",
      "source": [
        "# モデルの訓練\n",
        "history = model.train(train_dataset.X, train_dataset.y, model_conf,)"
      ],
      "execution_count": 0,
      "outputs": [
        {
          "output_type": "stream",
          "text": [
            "Train on 2025 samples, validate on 225 samples\n",
            "Epoch 1/1\n",
            "2025/2025 [==============================] - 10s 5ms/step - loss: 1.0528 - acc: 0.6504 - val_loss: 0.2893 - val_acc: 1.0000\n",
            "\n",
            "Epoch 00001: val_loss improved from inf to 0.28935, saving model to ./results/MnistCNN/model/MnistCNN_weights.001-1.0528.hdf5\n"
          ],
          "name": "stdout"
        }
      ]
    },
    {
      "metadata": {
        "id": "UzQyvs22aiG1",
        "colab_type": "code",
        "outputId": "b91342d9-6c50-4f62-bc4f-163ac3bd1ccc",
        "colab": {
          "base_uri": "https://localhost:8080/",
          "height": 52
        }
      },
      "cell_type": "code",
      "source": [
        "# モデルの評価\n",
        "result = model.evaluate(test_dataset.X, test_dataset.y)"
      ],
      "execution_count": 0,
      "outputs": [
        {
          "output_type": "stream",
          "text": [
            "750/750 [==============================] - 1s 2ms/step\n",
            "750/750 [==============================] - 1s 1ms/step\n"
          ],
          "name": "stdout"
        }
      ]
    },
    {
      "metadata": {
        "id": "k2OuPKCraoOk",
        "colab_type": "code",
        "colab": {}
      },
      "cell_type": "code",
      "source": [
        "# モデルの評価結果の保存\n",
        "model.visuaize_result(save_conf)"
      ],
      "execution_count": 0,
      "outputs": []
    },
    {
      "metadata": {
        "id": "Bx2YZj2sxt7j",
        "colab_type": "code",
        "colab": {}
      },
      "cell_type": "code",
      "source": [
        "# 結果のダウンロード\n",
        "import shutil\n",
        "from google import colab\n",
        "\n",
        "shutil.make_archive(save_root, 'zip', save_root)\n",
        "\n",
        "zip_file_name = \"{}.zip\".format(save_root)\n",
        "colab.files.download(zip_file_name)"
      ],
      "execution_count": 0,
      "outputs": []
    }
  ]
}