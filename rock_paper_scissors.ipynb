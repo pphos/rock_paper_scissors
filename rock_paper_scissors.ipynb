{
  "nbformat": 4,
  "nbformat_minor": 0,
  "metadata": {
    "colab": {
      "name": "rock_paper_scissors.ipynb",
      "version": "0.3.2",
      "provenance": [],
      "collapsed_sections": []
    },
    "kernelspec": {
      "name": "python3",
      "display_name": "Python 3"
    },
    "accelerator": "GPU"
  },
  "cells": [
    {
      "metadata": {
        "id": "TeKvjdbJZMxP",
        "colab_type": "code",
        "colab": {}
      },
      "cell_type": "code",
      "source": [
        "# https://pypi.python.org/pypi/pydot\n",
        "!apt-get -qq install -y graphviz && pip install -q pydot"
      ],
      "execution_count": 0,
      "outputs": []
    },
    {
      "metadata": {
        "id": "vpMvc_hVE89y",
        "colab_type": "code",
        "outputId": "52d3f0c3-29e5-4854-b386-307f4b80b8d9",
        "colab": {
          "base_uri": "https://localhost:8080/",
          "height": 153
        }
      },
      "cell_type": "code",
      "source": [
        "# データセット及びモジュールの取得\n",
        "!git clone https://github.com/pphos/rock_paper_scissors.git"
      ],
      "execution_count": 0,
      "outputs": [
        {
          "output_type": "stream",
          "text": [
            "Cloning into 'rock_paper_scissors'...\n",
            "remote: Enumerating objects: 346, done.\u001b[K\n",
            "remote: Counting objects: 100% (346/346), done.\u001b[K\n",
            "remote: Compressing objects: 100% (184/184), done.\u001b[K\n",
            "remote: Total 346 (delta 194), reused 309 (delta 159), pack-reused 0\u001b[K\n",
            "Receiving objects: 100% (346/346), 593.32 MiB | 32.40 MiB/s, done.\n",
            "Resolving deltas: 100% (194/194), done.\n",
            "Checking out files: 100% (32/32), done.\n"
          ],
          "name": "stdout"
        }
      ]
    },
    {
      "metadata": {
        "id": "sgpHJHCiWPRW",
        "colab_type": "code",
        "colab": {}
      },
      "cell_type": "code",
      "source": [
        "# モジュールの移動\n",
        "!mv './rock_paper_scissors/src/modules' ./"
      ],
      "execution_count": 0,
      "outputs": []
    },
    {
      "metadata": {
        "colab_type": "code",
        "id": "5HhFSTTSGCbI",
        "colab": {}
      },
      "cell_type": "code",
      "source": [
        "# データセット結合\n",
        "!cat ./rock_paper_scissors/datasets/rock_paper_scissors.tar.gz.* > datasets.tar.gz"
      ],
      "execution_count": 0,
      "outputs": []
    },
    {
      "metadata": {
        "id": "Nld5sUs6Nf0h",
        "colab_type": "code",
        "outputId": "090b9d84-d00b-49d1-86a8-41045abca2b4",
        "colab": {
          "base_uri": "https://localhost:8080/",
          "height": 170
        }
      },
      "cell_type": "code",
      "source": [
        "# データセットの解凍\n",
        "!tar -zxvf datasets.tar.gz\n",
        "!rm datasets.tar.gz"
      ],
      "execution_count": 0,
      "outputs": [
        {
          "output_type": "stream",
          "text": [
            "splited_dataset/\n",
            "splited_dataset/eval_features/\n",
            "splited_dataset/eval_features/data.npy\n",
            "splited_dataset/eval_features/target_label.pkl\n",
            "splited_dataset/eval_features/target.npy\n",
            "splited_dataset/training_features/\n",
            "splited_dataset/training_features/data.npy\n",
            "splited_dataset/training_features/target_label.pkl\n",
            "splited_dataset/training_features/target.npy\n"
          ],
          "name": "stdout"
        }
      ]
    },
    {
      "metadata": {
        "id": "CtFzdUfsGDiv",
        "colab_type": "code",
        "outputId": "2717e127-a08e-41e5-d861-3bf5ee939f25",
        "colab": {
          "base_uri": "https://localhost:8080/",
          "height": 34
        }
      },
      "cell_type": "code",
      "source": [
        "import os\n",
        "from modules.utils.preprocess import load_and_preprocess_dataset\n",
        "from modules.models.model_selection import select_model\n",
        "from modules.utils.io import init_result_save_dir"
      ],
      "execution_count": 0,
      "outputs": [
        {
          "output_type": "stream",
          "text": [
            "Using TensorFlow backend.\n"
          ],
          "name": "stderr"
        }
      ]
    },
    {
      "metadata": {
        "id": "g5H6KMkIxeAD",
        "colab_type": "code",
        "colab": {}
      },
      "cell_type": "code",
      "source": [
        "def init_each_config(target_label, save_root, unique=False):\n",
        "  \"\"\"\n",
        "  各種コンフィグの初期化\n",
        "  # Arguments\n",
        "    target_label : 正解ラベル (pickle形式)\n",
        "    save_root    : 結果を保存するディレクトリのパス\n",
        "    unique       : 保存ディレクトリに一意の名前をつけるかのフラグ\n",
        "  # Returns\n",
        "    model_conf   : モデル情報を格納した辞書\n",
        "     Attribute)\n",
        "      name                  : モデル名\n",
        "      save_dir              : モデルの保存ディレクトリパス\n",
        "      epochs                : モデルを訓練するエポック数 (int)\n",
        "      batch_size            : 勾配の更新を行うバッチサイズ (int)\n",
        "      validation_split      : 訓練データの中で検証データとして使う割合 (float)\n",
        "      loss                  : 損失関数\n",
        "      optimizer             : 最適化関数\n",
        "      metrics               : 評価やテストの際にモデルを評価するための評価関数のリスト\n",
        "      set_class_weight      : クラスごとに異なる重みづけを行うかのフラグ (bool) \n",
        "                             (各カテゴリの不均衡の解消用)\n",
        "      enable_early_stopping : 学習の早期終了を行うかのフラグ (bool)\n",
        "      \n",
        "    save_conf    : 結果の保存に関する情報を格納した辞書\n",
        "     Attribute)\n",
        "      digits                : 出力結果の有効数字の桁数 (int)\n",
        "      cnf_matrix_title      : Confusion Matrixの図につけるタイトル\n",
        "      cnf_matrix_fname      : Confusion Matrixの保存名 (画像ファイル)\n",
        "      text_fname            : classification_reportの保存名 (テキストファイル)\n",
        "      save_prefix           : 結果ファイルに付与するプレフィックス\n",
        "  \"\"\"\n",
        "  # 保存対象ディレクトリの初期化\n",
        "  model_name = 'MnistCNN'\n",
        "  save_dirs = init_result_save_dir(name=model_name,\n",
        "                                   save_root=save_root,\n",
        "                                   unique=unique)\n",
        "  \n",
        "  # model_conf の初期化\n",
        "  model_conf = {\n",
        "      'name': model_name,\n",
        "      'save_dir': save_dirs['model'],\n",
        "      'epochs': 10,\n",
        "      'batch_size': 32,\n",
        "      'validation_split': 0.1,\n",
        "      'loss': 'categorical_crossentropy',\n",
        "      'optimizer': 'Adam',\n",
        "      'metrics': ['accuracy'],\n",
        "      'set_class_weight': False,\n",
        "      'enable_early_stopping': False\n",
        "  }\n",
        "  \n",
        "  # save_conf の初期化\n",
        "  save_conf = {\n",
        "      'save_dir': save_dirs['figure'],\n",
        "      'digits': 4,\n",
        "      'target_names': target_label,\n",
        "      'cnf_matrix_title': None,\n",
        "      'cnf_matrix_fname': 'confusion_matrix.png',\n",
        "      'text_fname': 'classification_report.txt',\n",
        "      'save_prefix': None\n",
        "  }\n",
        "  \n",
        "  return model_conf, save_conf"
      ],
      "execution_count": 0,
      "outputs": []
    },
    {
      "metadata": {
        "id": "y95QQ5jYRDD4",
        "colab_type": "code",
        "colab": {}
      },
      "cell_type": "code",
      "source": [
        "# データセットのパスの設定\n",
        "train_root = './splited_dataset/training_features'\n",
        "test_root = './splited_dataset/eval_features'\n",
        "\n",
        "base_file_names = ['data.npy', 'target.npy', 'target_label.pkl']\n",
        "train_paths, test_paths = {}, {}\n",
        "for value in base_file_names:\n",
        "  key = os.path.splitext(value)[0]\n",
        "  train_paths[key] = os.path.join(train_root, value)\n",
        "  test_paths[key] = os.path.join(test_root, value)\n",
        "  "
      ],
      "execution_count": 0,
      "outputs": []
    },
    {
      "metadata": {
        "id": "8JNgIhu4RA2g",
        "colab_type": "code",
        "colab": {}
      },
      "cell_type": "code",
      "source": [
        "# データセットの読み込み兼前処理\n",
        "train_dataset = load_and_preprocess_dataset(train_paths['data'],\n",
        "                                            train_paths['target'],\n",
        "                                            train_paths['target_label'])\n",
        "test_dataset = load_and_preprocess_dataset(test_paths['data'],\n",
        "                                           test_paths['target'],\n",
        "                                           test_paths['target_label'])"
      ],
      "execution_count": 0,
      "outputs": []
    },
    {
      "metadata": {
        "id": "QxiJpj3EXZBT",
        "colab_type": "code",
        "colab": {}
      },
      "cell_type": "code",
      "source": [
        "# 各種コンフィグの初期化\n",
        "save_root = './results'\n",
        "model_conf, save_conf = init_each_config(train_dataset.target_label, save_root, unique=False)"
      ],
      "execution_count": 0,
      "outputs": []
    },
    {
      "metadata": {
        "id": "_HZXIXYzYt9R",
        "colab_type": "code",
        "outputId": "745f75f9-3498-457a-ed5c-d03fbeb164bc",
        "colab": {
          "base_uri": "https://localhost:8080/",
          "height": 119
        }
      },
      "cell_type": "code",
      "source": [
        "# 訓練モデルの選択\n",
        "model = select_model(model_conf['name'])\n",
        "model = model(name=model_conf['name'],\n",
        "              input_shape=train_dataset.X.shape[1:],\n",
        "              nb_classes=len(train_dataset.target_label),\n",
        "              save_dir=model_conf['save_dir'])"
      ],
      "execution_count": 0,
      "outputs": [
        {
          "output_type": "stream",
          "text": [
            "WARNING:tensorflow:From /usr/local/lib/python3.6/dist-packages/tensorflow/python/framework/op_def_library.py:263: colocate_with (from tensorflow.python.framework.ops) is deprecated and will be removed in a future version.\n",
            "Instructions for updating:\n",
            "Colocations handled automatically by placer.\n",
            "WARNING:tensorflow:From /usr/local/lib/python3.6/dist-packages/keras/backend/tensorflow_backend.py:3445: calling dropout (from tensorflow.python.ops.nn_ops) with keep_prob is deprecated and will be removed in a future version.\n",
            "Instructions for updating:\n",
            "Please use `rate` instead of `keep_prob`. Rate should be set to `rate = 1 - keep_prob`.\n"
          ],
          "name": "stdout"
        }
      ]
    },
    {
      "metadata": {
        "id": "boAfJjNv7S5g",
        "colab_type": "code",
        "outputId": "cbffd584-35d6-4345-b33d-41342ce3fc1f",
        "colab": {
          "base_uri": "https://localhost:8080/",
          "height": 408
        }
      },
      "cell_type": "code",
      "source": [
        "# 訓練モデルのサマリーの表示\n",
        "model.model.summary()"
      ],
      "execution_count": 0,
      "outputs": [
        {
          "output_type": "stream",
          "text": [
            "_________________________________________________________________\n",
            "Layer (type)                 Output Shape              Param #   \n",
            "=================================================================\n",
            "conv2d_1 (Conv2D)            (None, 254, 254, 8)       224       \n",
            "_________________________________________________________________\n",
            "conv2d_2 (Conv2D)            (None, 252, 252, 16)      1168      \n",
            "_________________________________________________________________\n",
            "max_pooling2d_1 (MaxPooling2 (None, 126, 126, 16)      0         \n",
            "_________________________________________________________________\n",
            "dropout_1 (Dropout)          (None, 126, 126, 16)      0         \n",
            "_________________________________________________________________\n",
            "flatten_1 (Flatten)          (None, 254016)            0         \n",
            "_________________________________________________________________\n",
            "dense_1 (Dense)              (None, 32)                8128544   \n",
            "_________________________________________________________________\n",
            "dropout_2 (Dropout)          (None, 32)                0         \n",
            "_________________________________________________________________\n",
            "dense_2 (Dense)              (None, 3)                 99        \n",
            "=================================================================\n",
            "Total params: 8,130,035\n",
            "Trainable params: 8,130,035\n",
            "Non-trainable params: 0\n",
            "_________________________________________________________________\n"
          ],
          "name": "stdout"
        }
      ]
    },
    {
      "metadata": {
        "id": "Ba0DQ7_2aapd",
        "colab_type": "code",
        "outputId": "111898bc-722c-49c5-9663-b1d6dda981c0",
        "colab": {
          "base_uri": "https://localhost:8080/",
          "height": 425
        }
      },
      "cell_type": "code",
      "source": [
        "# モデルの訓練\n",
        "history = model.train(train_dataset.X, train_dataset.y, model_conf,)"
      ],
      "execution_count": 0,
      "outputs": [
        {
          "output_type": "stream",
          "text": [
            "WARNING:tensorflow:From /usr/local/lib/python3.6/dist-packages/tensorflow/python/ops/math_ops.py:3066: to_int32 (from tensorflow.python.ops.math_ops) is deprecated and will be removed in a future version.\n",
            "Instructions for updating:\n",
            "Use tf.cast instead.\n",
            "Train on 2025 samples, validate on 225 samples\n",
            "Epoch 1/10\n",
            "2025/2025 [==============================] - 11s 5ms/step - loss: 2.6224 - acc: 0.6415 - val_loss: 0.0302 - val_acc: 1.0000\n",
            "Epoch 2/10\n",
            "2025/2025 [==============================] - 7s 3ms/step - loss: 0.1887 - acc: 0.8840 - val_loss: 0.0023 - val_acc: 1.0000\n",
            "Epoch 3/10\n",
            "2025/2025 [==============================] - 7s 3ms/step - loss: 0.1587 - acc: 0.9007 - val_loss: 0.0025 - val_acc: 1.0000\n",
            "Epoch 4/10\n",
            "2025/2025 [==============================] - 7s 3ms/step - loss: 0.1836 - acc: 0.8904 - val_loss: 4.0887e-05 - val_acc: 1.0000\n",
            "Epoch 5/10\n",
            "2025/2025 [==============================] - 7s 3ms/step - loss: 0.1773 - acc: 0.9072 - val_loss: 8.3169e-04 - val_acc: 1.0000\n",
            "Epoch 6/10\n",
            "2025/2025 [==============================] - 7s 3ms/step - loss: 0.1492 - acc: 0.9230 - val_loss: 1.3295e-04 - val_acc: 1.0000\n",
            "Epoch 7/10\n",
            "2025/2025 [==============================] - 7s 3ms/step - loss: 0.1445 - acc: 0.9254 - val_loss: 1.7253e-05 - val_acc: 1.0000\n",
            "Epoch 8/10\n",
            "2025/2025 [==============================] - 7s 3ms/step - loss: 0.1497 - acc: 0.9348 - val_loss: 1.0739e-04 - val_acc: 1.0000\n",
            "Epoch 9/10\n",
            "2025/2025 [==============================] - 7s 3ms/step - loss: 0.1358 - acc: 0.9432 - val_loss: 8.1630e-05 - val_acc: 1.0000\n",
            "Epoch 10/10\n",
            "2025/2025 [==============================] - 7s 3ms/step - loss: 0.1268 - acc: 0.9457 - val_loss: 1.3980e-05 - val_acc: 1.0000\n"
          ],
          "name": "stdout"
        }
      ]
    },
    {
      "metadata": {
        "id": "UzQyvs22aiG1",
        "colab_type": "code",
        "outputId": "5bfae2c7-7798-40a6-dec0-918d472b0ecd",
        "colab": {
          "base_uri": "https://localhost:8080/",
          "height": 51
        }
      },
      "cell_type": "code",
      "source": [
        "# モデルの評価\n",
        "result = model.evaluate(test_dataset.X, test_dataset.y)"
      ],
      "execution_count": 0,
      "outputs": [
        {
          "output_type": "stream",
          "text": [
            "750/750 [==============================] - 1s 2ms/step\n",
            "750/750 [==============================] - 1s 1ms/step\n"
          ],
          "name": "stdout"
        }
      ]
    },
    {
      "metadata": {
        "id": "k2OuPKCraoOk",
        "colab_type": "code",
        "colab": {}
      },
      "cell_type": "code",
      "source": [
        "# モデルの評価結果の保存\n",
        "model.visuaize_result(save_conf)"
      ],
      "execution_count": 0,
      "outputs": []
    },
    {
      "metadata": {
        "id": "ercdoA_TuVmz",
        "colab_type": "code",
        "outputId": "9cd81abf-18ff-44a2-bf51-d9c8771c15c5",
        "colab": {
          "base_uri": "https://localhost:8080/",
          "height": 68
        }
      },
      "cell_type": "code",
      "source": [
        "!ls ./results/MnistCNN/model"
      ],
      "execution_count": 0,
      "outputs": [
        {
          "output_type": "stream",
          "text": [
            "log_dir\t\t    MnistCNN_training_loss_and_accuracy.png\n",
            "MnistCNN_model.h5   MnistCNN_weight.hdf5\n",
            "MnistCNN_model.png\n"
          ],
          "name": "stdout"
        }
      ]
    },
    {
      "metadata": {
        "colab_type": "code",
        "id": "q40qKdiHWsFV",
        "colab": {}
      },
      "cell_type": "code",
      "source": [
        "# 結果のダウンロード\n",
        "import tarfile\n",
        "from google import colab\n",
        "\n",
        "tar_file_name = save_root + '.tar.gz'\n",
        "\n",
        "archive = tarfile.open(tar_file_name, mode=\"w:gz\")\n",
        "archive.add(save_root)\n",
        "archive.close()\n",
        "\n",
        "colab.files.download(tar_file_name)"
      ],
      "execution_count": 0,
      "outputs": []
    }
  ]
}